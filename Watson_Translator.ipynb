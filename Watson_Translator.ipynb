{
  "nbformat": 4,
  "nbformat_minor": 0,
  "metadata": {
    "colab": {
      "provenance": []
    },
    "kernelspec": {
      "name": "python3",
      "display_name": "Python 3"
    },
    "language_info": {
      "name": "python"
    },
    "accelerator": "GPU",
    "gpuClass": "standard"
  },
  "cells": [
    {
      "cell_type": "code",
      "source": [
        "!pip install ibm_watson"
      ],
      "metadata": {
        "colab": {
          "base_uri": "https://localhost:8080/"
        },
        "id": "GXfrR5FjVfPN",
        "outputId": "f045ab5d-172b-49b1-fa78-613301bb682e"
      },
      "execution_count": 1,
      "outputs": [
        {
          "output_type": "stream",
          "name": "stdout",
          "text": [
            "Looking in indexes: https://pypi.org/simple, https://us-python.pkg.dev/colab-wheels/public/simple/\n",
            "Collecting ibm_watson\n",
            "  Downloading ibm-watson-6.1.0.tar.gz (373 kB)\n",
            "\u001b[2K     \u001b[90m━━━━━━━━━━━━━━━━━━━━━━━━━━━━━━━━━━━━━━━\u001b[0m \u001b[32m373.5/373.5 KB\u001b[0m \u001b[31m9.3 MB/s\u001b[0m eta \u001b[36m0:00:00\u001b[0m\n",
            "\u001b[?25h  Installing build dependencies ... \u001b[?25l\u001b[?25hdone\n",
            "  Getting requirements to build wheel ... \u001b[?25l\u001b[?25hdone\n",
            "  Preparing metadata (pyproject.toml) ... \u001b[?25l\u001b[?25hdone\n",
            "Collecting ibm-cloud-sdk-core==3.*,>=3.3.6\n",
            "  Downloading ibm-cloud-sdk-core-3.16.1.tar.gz (50 kB)\n",
            "\u001b[2K     \u001b[90m━━━━━━━━━━━━━━━━━━━━━━━━━━━━━━━━━━━━━━━━\u001b[0m \u001b[32m50.5/50.5 KB\u001b[0m \u001b[31m6.6 MB/s\u001b[0m eta \u001b[36m0:00:00\u001b[0m\n",
            "\u001b[?25h  Installing build dependencies ... \u001b[?25l\u001b[?25hdone\n",
            "  Getting requirements to build wheel ... \u001b[?25l\u001b[?25hdone\n",
            "  Preparing metadata (pyproject.toml) ... \u001b[?25l\u001b[?25hdone\n",
            "Requirement already satisfied: requests<3.0,>=2.0 in /usr/local/lib/python3.8/dist-packages (from ibm_watson) (2.25.1)\n",
            "Requirement already satisfied: python-dateutil>=2.5.3 in /usr/local/lib/python3.8/dist-packages (from ibm_watson) (2.8.2)\n",
            "Collecting websocket-client==1.1.0\n",
            "  Downloading websocket_client-1.1.0-py2.py3-none-any.whl (68 kB)\n",
            "\u001b[2K     \u001b[90m━━━━━━━━━━━━━━━━━━━━━━━━━━━━━━━━━━━━━━━━\u001b[0m \u001b[32m68.7/68.7 KB\u001b[0m \u001b[31m8.7 MB/s\u001b[0m eta \u001b[36m0:00:00\u001b[0m\n",
            "\u001b[?25hCollecting urllib3<2.0.0,>=1.26.0\n",
            "  Downloading urllib3-1.26.14-py2.py3-none-any.whl (140 kB)\n",
            "\u001b[2K     \u001b[90m━━━━━━━━━━━━━━━━━━━━━━━━━━━━━━━━━━━━━━\u001b[0m \u001b[32m140.6/140.6 KB\u001b[0m \u001b[31m17.6 MB/s\u001b[0m eta \u001b[36m0:00:00\u001b[0m\n",
            "\u001b[?25hCollecting requests<3.0,>=2.0\n",
            "  Downloading requests-2.28.2-py3-none-any.whl (62 kB)\n",
            "\u001b[2K     \u001b[90m━━━━━━━━━━━━━━━━━━━━━━━━━━━━━━━━━━━━━━━━\u001b[0m \u001b[32m62.8/62.8 KB\u001b[0m \u001b[31m8.1 MB/s\u001b[0m eta \u001b[36m0:00:00\u001b[0m\n",
            "\u001b[?25hCollecting PyJWT<3.0.0,>=2.4.0\n",
            "  Downloading PyJWT-2.6.0-py3-none-any.whl (20 kB)\n",
            "Requirement already satisfied: six>=1.5 in /usr/local/lib/python3.8/dist-packages (from python-dateutil>=2.5.3->ibm_watson) (1.15.0)\n",
            "Requirement already satisfied: idna<4,>=2.5 in /usr/local/lib/python3.8/dist-packages (from requests<3.0,>=2.0->ibm_watson) (2.10)\n",
            "Requirement already satisfied: certifi>=2017.4.17 in /usr/local/lib/python3.8/dist-packages (from requests<3.0,>=2.0->ibm_watson) (2022.12.7)\n",
            "Requirement already satisfied: charset-normalizer<4,>=2 in /usr/local/lib/python3.8/dist-packages (from requests<3.0,>=2.0->ibm_watson) (2.1.1)\n",
            "Building wheels for collected packages: ibm_watson, ibm-cloud-sdk-core\n",
            "  Building wheel for ibm_watson (pyproject.toml) ... \u001b[?25l\u001b[?25hdone\n",
            "  Created wheel for ibm_watson: filename=ibm_watson-6.1.0-py3-none-any.whl size=370764 sha256=68404ce2e1eb7bfd501110a42dc2b7477c2ff7b63f1dee08c289ee907f5bdf62\n",
            "  Stored in directory: /root/.cache/pip/wheels/34/b4/cd/829a351c802b7a578115fe7ddaedff62b29eae84e90882c7e2\n",
            "  Building wheel for ibm-cloud-sdk-core (pyproject.toml) ... \u001b[?25l\u001b[?25hdone\n",
            "  Created wheel for ibm-cloud-sdk-core: filename=ibm_cloud_sdk_core-3.16.1-py3-none-any.whl size=83569 sha256=ae1d8819d5c37d5c7d877cedab91406ad94e925addc13b0a266c7b53e290dddb\n",
            "  Stored in directory: /root/.cache/pip/wheels/8a/51/69/22f5cea59892dc3eae30e5df3b1380902f010a5eb6596d7cb1\n",
            "Successfully built ibm_watson ibm-cloud-sdk-core\n",
            "Installing collected packages: websocket-client, urllib3, PyJWT, requests, ibm-cloud-sdk-core, ibm_watson\n",
            "  Attempting uninstall: urllib3\n",
            "    Found existing installation: urllib3 1.24.3\n",
            "    Uninstalling urllib3-1.24.3:\n",
            "      Successfully uninstalled urllib3-1.24.3\n",
            "  Attempting uninstall: requests\n",
            "    Found existing installation: requests 2.25.1\n",
            "    Uninstalling requests-2.25.1:\n",
            "      Successfully uninstalled requests-2.25.1\n",
            "Successfully installed PyJWT-2.6.0 ibm-cloud-sdk-core-3.16.1 ibm_watson-6.1.0 requests-2.28.2 urllib3-1.26.14 websocket-client-1.1.0\n"
          ]
        }
      ]
    },
    {
      "cell_type": "code",
      "execution_count": 2,
      "metadata": {
        "id": "40fbHM1XU_R6"
      },
      "outputs": [],
      "source": [
        "from ibm_watson import LanguageTranslatorV3"
      ]
    },
    {
      "cell_type": "code",
      "source": [
        "url='https://api.jp-tok.language-translator.watson.cloud.ibm.com/instances/343971cd-82b8-45ed-a65e-544b18b97226'\n",
        "apikey='Us2a4GDOlyzuuLWnfnnGsyZq2z2Ev-tks3wbQlrfvreF'\n",
        "version='2018-05-01'"
      ],
      "metadata": {
        "id": "GGu3dSE0Vpto"
      },
      "execution_count": 3,
      "outputs": []
    },
    {
      "cell_type": "code",
      "source": [
        "from ibm_cloud_sdk_core.authenticators.iam_authenticator import IAMAuthenticator\n",
        "authenticator = IAMAuthenticator(apikey)\n",
        "language_translator = LanguageTranslatorV3(version='2018-05-01',authenticator=authenticator)\n",
        "language_translator.set_service_url(url)"
      ],
      "metadata": {
        "id": "7WDKq8NlV3-D"
      },
      "execution_count": 4,
      "outputs": []
    },
    {
      "cell_type": "code",
      "source": [
        "language_translator.list_identifiable_languages().get_result()"
      ],
      "metadata": {
        "colab": {
          "base_uri": "https://localhost:8080/"
        },
        "id": "Hx3v80ecYhpK",
        "outputId": "54abea33-6e4d-41a4-dbe5-49cf06d7263a"
      },
      "execution_count": 5,
      "outputs": [
        {
          "output_type": "execute_result",
          "data": {
            "text/plain": [
              "{'languages': [{'language': 'af', 'name': 'Afrikaans'},\n",
              "  {'language': 'ar', 'name': 'Arabic'},\n",
              "  {'language': 'az', 'name': 'Azerbaijani'},\n",
              "  {'language': 'ba', 'name': 'Bashkir'},\n",
              "  {'language': 'be', 'name': 'Belarusian'},\n",
              "  {'language': 'bg', 'name': 'Bulgarian'},\n",
              "  {'language': 'bn', 'name': 'Bengali'},\n",
              "  {'language': 'ca', 'name': 'Catalan'},\n",
              "  {'language': 'cs', 'name': 'Czech'},\n",
              "  {'language': 'cv', 'name': 'Chuvash'},\n",
              "  {'language': 'cy', 'name': 'Welsh'},\n",
              "  {'language': 'da', 'name': 'Danish'},\n",
              "  {'language': 'de', 'name': 'German'},\n",
              "  {'language': 'el', 'name': 'Greek'},\n",
              "  {'language': 'en', 'name': 'English'},\n",
              "  {'language': 'eo', 'name': 'Esperanto'},\n",
              "  {'language': 'es', 'name': 'Spanish'},\n",
              "  {'language': 'et', 'name': 'Estonian'},\n",
              "  {'language': 'eu', 'name': 'Basque'},\n",
              "  {'language': 'fa', 'name': 'Persian'},\n",
              "  {'language': 'fi', 'name': 'Finnish'},\n",
              "  {'language': 'fr', 'name': 'French'},\n",
              "  {'language': 'ga', 'name': 'Irish'},\n",
              "  {'language': 'gu', 'name': 'Gujarati'},\n",
              "  {'language': 'he', 'name': 'Hebrew'},\n",
              "  {'language': 'hi', 'name': 'Hindi'},\n",
              "  {'language': 'hr', 'name': 'Croatian'},\n",
              "  {'language': 'ht', 'name': 'Haitian'},\n",
              "  {'language': 'hu', 'name': 'Hungarian'},\n",
              "  {'language': 'hy', 'name': 'Armenian'},\n",
              "  {'language': 'is', 'name': 'Icelandic'},\n",
              "  {'language': 'it', 'name': 'Italian'},\n",
              "  {'language': 'ja', 'name': 'Japanese'},\n",
              "  {'language': 'ka', 'name': 'Georgian'},\n",
              "  {'language': 'kk', 'name': 'Kazakh'},\n",
              "  {'language': 'km', 'name': 'Central Khmer'},\n",
              "  {'language': 'ko', 'name': 'Korean'},\n",
              "  {'language': 'ku', 'name': 'Kurdish'},\n",
              "  {'language': 'ky', 'name': 'Kirghiz'},\n",
              "  {'language': 'lo', 'name': 'Lao'},\n",
              "  {'language': 'lt', 'name': 'Lithuanian'},\n",
              "  {'language': 'lv', 'name': 'Latvian'},\n",
              "  {'language': 'ml', 'name': 'Malayalam'},\n",
              "  {'language': 'mn', 'name': 'Mongolian'},\n",
              "  {'language': 'mr', 'name': 'Marathi'},\n",
              "  {'language': 'ms', 'name': 'Malay'},\n",
              "  {'language': 'mt', 'name': 'Maltese'},\n",
              "  {'language': 'my', 'name': 'Burmese'},\n",
              "  {'language': 'nb', 'name': 'Norwegian Bokmal'},\n",
              "  {'language': 'ne', 'name': 'Nepali'},\n",
              "  {'language': 'nl', 'name': 'Dutch'},\n",
              "  {'language': 'nn', 'name': 'Norwegian Nynorsk'},\n",
              "  {'language': 'pa', 'name': 'Punjabi'},\n",
              "  {'language': 'pa-PK', 'name': 'Punjabi (Shahmukhi script, Pakistan)'},\n",
              "  {'language': 'pl', 'name': 'Polish'},\n",
              "  {'language': 'ps', 'name': 'Pushto'},\n",
              "  {'language': 'pt', 'name': 'Portuguese'},\n",
              "  {'language': 'ro', 'name': 'Romanian'},\n",
              "  {'language': 'ru', 'name': 'Russian'},\n",
              "  {'language': 'si', 'name': 'Sinhala'},\n",
              "  {'language': 'sk', 'name': 'Slovakian'},\n",
              "  {'language': 'sl', 'name': 'Slovenian'},\n",
              "  {'language': 'so', 'name': 'Somali'},\n",
              "  {'language': 'sq', 'name': 'Albanian'},\n",
              "  {'language': 'sr', 'name': 'Serbian'},\n",
              "  {'language': 'sv', 'name': 'Swedish'},\n",
              "  {'language': 'ta', 'name': 'Tamil'},\n",
              "  {'language': 'te', 'name': 'Telugu'},\n",
              "  {'language': 'th', 'name': 'Thai'},\n",
              "  {'language': 'tl', 'name': 'Tagalog'},\n",
              "  {'language': 'tr', 'name': 'Turkish'},\n",
              "  {'language': 'uk', 'name': 'Ukrainian'},\n",
              "  {'language': 'ur', 'name': 'Urdu'},\n",
              "  {'language': 'vi', 'name': 'Vietnamese'},\n",
              "  {'language': 'zh', 'name': 'Simplified Chinese'},\n",
              "  {'language': 'zh-TW', 'name': 'Traditional Chinese'}]}"
            ]
          },
          "metadata": {},
          "execution_count": 5
        }
      ]
    },
    {
      "cell_type": "code",
      "source": [
        "def english_to_french(text1):\n",
        "  frenchtranslation = language_translator.translate(text=text1,model_id='en-fr').get_result()\n",
        "  return frenchtranslation.get(\"translations\")[0].get(\"translation\")"
      ],
      "metadata": {
        "id": "S_bbREyPYyq3"
      },
      "execution_count": 17,
      "outputs": []
    },
    {
      "cell_type": "code",
      "source": [
        "def french_to_english(text1):\n",
        "  englishtranslation = language_translator.translate(text=text1,model_id='fr-en').get_result()\n",
        "  return englishtranslation.get(\"translations\")[0].get(\"translation\")"
      ],
      "metadata": {
        "id": "6UE0qxeIZuER"
      },
      "execution_count": 7,
      "outputs": []
    },
    {
      "cell_type": "code",
      "source": [
        "english_to_french('Hello, good day to you')"
      ],
      "metadata": {
        "colab": {
          "base_uri": "https://localhost:8080/",
          "height": 36
        },
        "id": "3BzJ_8uxaYv8",
        "outputId": "9c3dca3e-58b0-48d5-b85e-0db2bd28af0c"
      },
      "execution_count": 23,
      "outputs": [
        {
          "output_type": "execute_result",
          "data": {
            "text/plain": [
              "'Bonjour, bonjour à vous'"
            ],
            "application/vnd.google.colaboratory.intrinsic+json": {
              "type": "string"
            }
          },
          "metadata": {},
          "execution_count": 23
        }
      ]
    },
    {
      "cell_type": "code",
      "source": [
        "french_to_english('Bonjour, bonne journée à vous')"
      ],
      "metadata": {
        "colab": {
          "base_uri": "https://localhost:8080/",
          "height": 36
        },
        "id": "2Am7mTfJatjh",
        "outputId": "4b77501e-2962-4804-af49-47d8befbc35d"
      },
      "execution_count": 21,
      "outputs": [
        {
          "output_type": "execute_result",
          "data": {
            "text/plain": [
              "'Hello, good day to you'"
            ],
            "application/vnd.google.colaboratory.intrinsic+json": {
              "type": "string"
            }
          },
          "metadata": {},
          "execution_count": 21
        }
      ]
    },
    {
      "cell_type": "code",
      "source": [
        "import unittest\n",
        "#import english_to_french, french_to_english\n",
        "class TestMyModule(unittest.TestCase):\n",
        "  def test_english_to_french(self):\n",
        "    self.assertEqual(english_to_french('Hello, good day to you'),'Bonjour, bonjour à vous')\n",
        "    self.assertNotEqual(english_to_french('Hello, good day to you'),'Hello, good day to you')\n",
        "\n",
        "if __name__=='__main__':\n",
        "  unittest.main(argv=['first-arg-is-ignored'], exit=False)"
      ],
      "metadata": {
        "colab": {
          "base_uri": "https://localhost:8080/"
        },
        "id": "Qi26q9wIJlAM",
        "outputId": "65f1cdd5-31e5-4f52-bc27-708683baefcf"
      },
      "execution_count": 34,
      "outputs": [
        {
          "output_type": "stream",
          "name": "stderr",
          "text": [
            "..\n",
            "----------------------------------------------------------------------\n",
            "Ran 2 tests in 0.839s\n",
            "\n",
            "OK\n"
          ]
        }
      ]
    },
    {
      "cell_type": "code",
      "source": [
        "import unittest\n",
        "#import english_to_french, french_to_english\n",
        "class TestMyModule2(unittest.TestCase):\n",
        "  def test_french_to_english(self):\n",
        "    self.assertEqual(french_to_english('Bonjour, bonne journée à vous'),'Hello, good day to you')\n",
        "    self.assertNotEqual(french_to_english('Bonjour, bonne journée à vous'),'Bonjour, bonne journée à vous')\n",
        "\n",
        "if __name__=='__main__':\n",
        "  unittest.main(argv=['first-arg-is-ignored'], exit=False)"
      ],
      "metadata": {
        "colab": {
          "base_uri": "https://localhost:8080/"
        },
        "id": "hEFfR8jAN39m",
        "outputId": "13702629-1d71-416b-dda3-2ed182218737"
      },
      "execution_count": 36,
      "outputs": [
        {
          "output_type": "stream",
          "name": "stderr",
          "text": [
            "..\n",
            "----------------------------------------------------------------------\n",
            "Ran 2 tests in 1.038s\n",
            "\n",
            "OK\n"
          ]
        }
      ]
    }
  ]
}